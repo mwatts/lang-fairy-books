{
 "cells": [
  {
   "cell_type": "markdown",
   "id": "ae30ca3c",
   "metadata": {},
   "source": [
    "# A Full Text Searchable Database of Lang's Fairy Books\n",
    "\n",
    "In the late 19th and early 20th century, Andrew Lang published various collections of fairy tales, starting with *The Blue Fairy Book* and then progressing though various other colours to *The Olive Fairy Book*.\n",
    "\n",
    "This notebook represents a playful aside in trying to build various searchable contexts over the stories.\n",
    "\n",
    "To begin with, let's start by ingesting the stories into a database and building a full text search over them..."
   ]
  },
  {
   "cell_type": "markdown",
   "id": "b89cd90e",
   "metadata": {},
   "source": [
    "## Obtain Source Texts\n",
    "\n",
    "We can download the raw text for each of Lang's Fairy Books from the Sacred Texts website:"
   ]
  },
  {
   "cell_type": "code",
   "execution_count": 105,
   "id": "791c0704",
   "metadata": {},
   "outputs": [
    {
     "data": {
      "text/plain": [
       "'<HTML>\\r\\n<HEAD>\\r\\n<link rel=\"stylesheet\" href=\"../../css/ista.css\"><META HTTP-EQUIV=\"Content-Type\" CONTENT=\"text/html; charset=UTF-8\">\\r\\n<link rel=\"alternate\" type=\"application/rss+xml\" title=\"RSS\" href=\"http://sacred-texts.com/rss/new.xml\">\\r\\n\\r\\n<META name=\"description\"\\r\\ncontent=\"Sacred Texts: Lang Fairy Books\">\\r\\n<META name=\"keywords\"\\r\\ncontent=\"Colored Fairy Books Fairy Tales Tale Folklore Folk lore Children Literature\">\\r\\n<TITLE>Sacred-Texts: Lang Fairy Books</TITLE></HEAD>\\r\\n<BODY>\\r\\n<table width=\"800\" border=\"0\" align=\"center\" cellpadding=\"0\" cellspacing=\"0\"><tr> \\r\\n<td height=\"131\" width=\"200\" align=\"left\" valign=\"top\"> \\r\\n<div align=\"left\"><a href=\"../../cdshop/index.htm\"><img src=\"../../img/cdad.gif\" width=\"206\" height=\"136\" border=\"0\"></a></div>\\r\\n</td>\\r\\n<td height=\"131\" width=\"600\" colspan=\"3\"><div align=\"left\"><img src=\"../../img/menu.jpg\" width=\"600\" height=\"134\" usemap=\"#Map\" border=\"0\"><map name=\"Map\"><area shape=\"rect\" coords=\"33,5,552,78\" href=\"../../index.htm\" alt=\"sacred-texts.co'"
      ]
     },
     "execution_count": 105,
     "metadata": {},
     "output_type": "execute_result"
    }
   ],
   "source": [
    "import requests\n",
    "\n",
    "url = \"https://www.sacred-texts.com/neu/lfb/index.htm\"\n",
    "html = requests.get(url)\n",
    "\n",
    "html.text[:1000]"
   ]
  },
  {
   "cell_type": "markdown",
   "id": "8705894d",
   "metadata": {},
   "source": [
    "By inspection of the HTML, we see the books are in `span` tag with a `ista-content` class. Digging further, we then notice the links are in `c_t` classed `span` elements. We can extract them using beautiful soup:"
   ]
  },
  {
   "cell_type": "code",
   "execution_count": 131,
   "id": "ba8ab9ad",
   "metadata": {},
   "outputs": [],
   "source": [
    "from bs4 import BeautifulSoup\n",
    "\n",
    "soup = BeautifulSoup(html.content, \"html.parser\")\n",
    "\n",
    "# Find the spans containing the links\n",
    "items_ = soup.find(\"span\", class_=\"ista-content\").find_all(\"span\", class_=\"c_t\")\n",
    "\n",
    "# And then reduce those to just the links\n",
    "items_ = [item.find(\"a\")for item in items_]"
   ]
  },
  {
   "cell_type": "markdown",
   "id": "2b8e5238",
   "metadata": {},
   "source": [
    "We can then extract the relative links and generate full links for each book page:"
   ]
  },
  {
   "cell_type": "code",
   "execution_count": 134,
   "id": "fc480f01",
   "metadata": {},
   "outputs": [
    {
     "data": {
      "text/plain": [
       "[('The Blue Fairy Book', 'https://www.sacred-texts.com/neu/lfb/bl/index.htm'),\n",
       " ('The Brown Fairy Book', 'https://www.sacred-texts.com/neu/lfb/br/index.htm'),\n",
       " ('The Crimson Fairy Book',\n",
       "  'https://www.sacred-texts.com/neu/lfb/cr/index.htm')]"
      ]
     },
     "execution_count": 134,
     "metadata": {},
     "output_type": "execute_result"
    }
   ],
   "source": [
    "base_url = url.replace(\"index.htm\", \"\")\n",
    "\n",
    "links = [(link.text, f\"{base_url}{link.get('href')}\") for link in items_]\n",
    "links[:3]"
   ]
  },
  {
   "cell_type": "markdown",
   "id": "a6d03c7c",
   "metadata": {},
   "source": [
    "We could now load each of those pages and then scrape the download link. But, we notice that the download links have a regular pattern: `https://www.sacred-texts.com/neu/lfb/bl/blfb.txt.gz` which we can derive from the book pages:"
   ]
  },
  {
   "cell_type": "code",
   "execution_count": 139,
   "id": "0a12af05",
   "metadata": {},
   "outputs": [
    {
     "data": {
      "text/plain": [
       "[('The Blue Fairy Book',\n",
       "  'https://www.sacred-texts.com/neu/lfb/bl/blfb.txt.gz'),\n",
       " ('The Brown Fairy Book',\n",
       "  'https://www.sacred-texts.com/neu/lfb/br/brfb.txt.gz'),\n",
       " ('The Crimson Fairy Book',\n",
       "  'https://www.sacred-texts.com/neu/lfb/cr/crfb.txt.gz')]"
      ]
     },
     "execution_count": 139,
     "metadata": {},
     "output_type": "execute_result"
    }
   ],
   "source": [
    "download_links = []\n",
    "\n",
    "for (_title, _url) in links:\n",
    "    # We need to get the \"short\" colour name of the book\n",
    "    # which can be found in the URL path...\n",
    "    book_path = _url.split(\"/\")[-2]\n",
    "    zip_fn =  f\"{book_path}fb.txt.gz\"\n",
    "    zip_url = _url.replace(\"index.htm\", zip_fn)\n",
    "    \n",
    "    download_links.append((_title, zip_url))\n",
    "\n",
    "download_links[:3]"
   ]
  },
  {
   "cell_type": "markdown",
   "id": "899bcbf6",
   "metadata": {},
   "source": [
    "Now we can download and unzip the files..."
   ]
  },
  {
   "cell_type": "code",
   "execution_count": 165,
   "id": "d1153341",
   "metadata": {},
   "outputs": [],
   "source": [
    "import urllib\n",
    "\n",
    "for (_, url) in download_links:\n",
    "    # Create a file name to save file to as the file downloaded from the URL\n",
    "    zip_file = url.split(\"/\")[-1]\n",
    "    urllib.request.urlretrieve(url, zip_file)"
   ]
  },
  {
   "cell_type": "code",
   "execution_count": 166,
   "id": "f1da1ba7",
   "metadata": {},
   "outputs": [
    {
     "name": "stdout",
     "output_type": "stream",
     "text": [
      "blfb.txt.gz                   sacred-texts-brfb-brown.txt\r\n",
      "brfb.txt.gz                   sacred-texts-crfb-crimson.txt\r\n",
      "build-db.ipynb                sacred-texts-gnfb-green.txt\r\n",
      "crfb.txt.gz                   sacred-texts-gyfb-grey.txt\r\n",
      "demo.db                       sacred-texts-lifb-lilac.txt\r\n",
      "gnfb.txt.gz                   sacred-texts-olfb-olive.txt\r\n",
      "gyfb.txt.gz                   sacred-texts-orfb-orange.txt\r\n",
      "lifb.txt.gz                   sacred-texts-pifb-pink.txt\r\n",
      "olfb.txt.gz                   sacred-texts-refb-red.txt\r\n",
      "orfb.txt.gz                   sacred-texts-vifb-violet.txt\r\n",
      "pifb.txt.gz                   sacred-texts-yefb-yellow.txt\r\n",
      "refb.txt.gz                   vifb.txt.gz\r\n",
      "sacred-texts-blfb-blue.txt    yefb.txt.gz\r\n"
     ]
    }
   ],
   "source": [
    "!ls"
   ]
  },
  {
   "cell_type": "markdown",
   "id": "5f17b111",
   "metadata": {},
   "source": [
    "The following function will read in the contents of a local gzip file:"
   ]
  },
  {
   "cell_type": "code",
   "execution_count": 1,
   "id": "0657b9a7",
   "metadata": {},
   "outputs": [
    {
     "data": {
      "text/plain": [
       "'\\nThe Green Fairy Book, by Andrew Lang, [1892], at sacred-texts.com\\n\\nTHE GREEN FAIRY BOOK\\n\\nBy Various\\n\\nEdited by Andrew Lang\\n\\nLondon, New York: Longmans, Green, and Co.\\n\\n[1892]\\n\\nTo\\n\\nStella Margaret Alleyne\\n\\nthe\\n\\nGreen Fairy Book\\n\\nis dedicated\\n\\nThe Green Fairy Book, by Andrew Lang, [1892], at sacred-texts.com\\n\\nContents\\n\\n[*To the Friendly Reader]\\n\\n[*The Blue Bird]\\n\\n[*The Half-Chick]\\n\\n[*The Story of Caliph Stork]\\n\\n[*The Enchanted Watch]\\n\\n[*Rosanella]\\n\\n[*Sylvain and Jocosa]\\n\\n[*Fairy Gifts]\\n\\n[*Prince Narcissus and the Princess Potentilla]\\n\\n[*Prince Featherhead and the Princess Celandine]\\n\\n[*The Three Little Pigs]\\n\\n[*Heart of Ice]\\n\\n[*The Enchanted Ring]\\n\\n[*The Snuff-box]\\n\\n[*The Golden Blackbird]\\n\\n[*The Little Soldier]\\n\\n[*The Magic Swan]\\n\\n[*The Dirty Shepherdess]\\n\\n[*The Enchanted Snake]\\n\\n[*The Biter Bit]\\n\\n[*King Kojata]\\n\\n[*Prince Fickle and Fair Helena]\\n\\n[*Puddocky]\\n\\n[*The Story of Hok Lee and the Dwarfs]\\n\\n[*The Story of the Three Bears]\\n\\n[*Prince Vivien and the Princess Placida]\\n\\n[*Little One'"
      ]
     },
     "execution_count": 1,
     "metadata": {},
     "output_type": "execute_result"
    }
   ],
   "source": [
    "import gzip\n",
    "\n",
    "def gzip_txt(fn):\n",
    "    \"\"\"Open gzip file and extract text.\"\"\"\n",
    "    with gzip.open(fn,'rb') as f:\n",
    "        txt = f.read().decode('UTF-8').replace(\"\\r\", \"\")\n",
    "\n",
    "    return txt\n",
    "\n",
    "gzip_txt('gnfb.txt.gz')[:1000]"
   ]
  },
  {
   "cell_type": "code",
   "execution_count": 179,
   "id": "1245a4f2",
   "metadata": {},
   "outputs": [
    {
     "name": "stdout",
     "output_type": "stream",
     "text": [
      "blfb.txt.gz                   sacred-texts-brfb-brown.txt\r\n",
      "brfb.txt.gz                   sacred-texts-crfb-crimson.txt\r\n",
      "build-db.ipynb                sacred-texts-gnfb-green.txt\r\n",
      "crfb.txt.gz                   sacred-texts-gyfb-grey.txt\r\n",
      "demo.db                       sacred-texts-lifb-lilac.txt\r\n",
      "gnfb.txt.gz                   sacred-texts-olfb-olive.txt\r\n",
      "gyfb.txt.gz                   sacred-texts-orfb-orange.txt\r\n",
      "lifb.txt.gz                   sacred-texts-pifb-pink.txt\r\n",
      "olfb.txt.gz                   sacred-texts-refb-red.txt\r\n",
      "orfb.txt.gz                   sacred-texts-vifb-violet.txt\r\n",
      "pifb.txt.gz                   sacred-texts-yefb-yellow.txt\r\n",
      "refb.txt.gz                   vifb.txt.gz\r\n",
      "sacred-texts-blfb-blue.txt    yefb.txt.gz\r\n"
     ]
    }
   ],
   "source": [
    "!ls"
   ]
  },
  {
   "cell_type": "markdown",
   "id": "707e0859",
   "metadata": {},
   "source": [
    "Select one of the books and read in the book text:"
   ]
  },
  {
   "cell_type": "code",
   "execution_count": 35,
   "id": "cddeff1f",
   "metadata": {},
   "outputs": [
    {
     "data": {
      "text/plain": [
       "'\\nThe Blue Fairy Book, by Andrew Lang, [1889], at sacred-texts.com\\n\\nTHE BLUE FAIRY BOOK\\n\\nby Andrew Lang\\n\\nLondon, New York: Longmans, Green\\n\\n[1889]\\n\\nThe Blue Fairy Book, by Andrew Lang, [1889], at sacred-texts.com\\n\\nCONTENTS\\n\\n[*THE BRONZE RING]\\n\\n[*PRINCE HYACINTH AND THE DEAR LITTLE PRINCESS]\\n\\n[*EAST OF THE SUN AND WEST OF THE MOON]\\n\\n[*THE YELLOW DWARF]\\n\\n[*LITTLE RED RIDING-HOOD]\\n\\n[*THE SLEEPING BEAUTY IN THE WOOD]\\n\\n[*CINDERELLA; OR, THE LITTLE GLASS SLIPPER]\\n\\n[*ALADDIN AND THE WONDERFUL LAMP]\\n\\n[*THE TALE OF A YOUTH WHO SET OUT TO LEARN WHAT FEAR WAS]\\n\\n[*RUMPELSTILTZKIN]\\n\\n[*BEAUTY AND THE BEAST]\\n\\n[*THE MASTER-MAID]\\n\\n[*WHY THE SEA IS SALT]\\n\\n[*THE MASTER CAT; OR, PUSS IN BOOTS]\\n\\n[*FELICIA AND THE POT OF PINKS]\\n\\n[*THE WHITE CAT]\\n\\n[*THE WATER-LILY. THE GOLD-SPINNERS]\\n\\n[*THE TERRIBLE HEAD]\\n\\n[*THE STORY OF PRETTY GOLDILOCKS]\\n\\n[*THE HISTORY OF WHITTINGTON]\\n\\n[*THE WONDERFUL SHEEP]\\n\\n[*LITTLE THUMB]\\n\\n[*THE FORTY THIEVES]\\n\\n[*HANSEL AND GRETTEL]\\n\\n[*SNOW-WHITE AND ROSE-RED]\\n\\n[*THE GOOSE-GIRL]\\n\\n[*TOADS AND DIAMONDS]\\n\\n[*PRINCE DARLING]\\n\\n[*BLUE BEARD]\\n\\n[*TRUSTY JOHN]\\n\\n[*THE BRAVE LITTLE TAILOR]\\n\\n[*A VOYAGE TO LILLIPUT]\\n\\n[*THE PRINCESS ON THE GLASS HILL]\\n\\n[*THE STORY OF PRINCE AHMED AND THE FAIRY PARIBANOU]\\n\\n[*THE HISTORY OF JACK THE GIANT-KILLER]\\n\\n[*THE BLACK BULL OF NORROWAY]\\n\\n[*THE RED ETIN]\\n\\nThe Blue Fairy Book, by Andrew Lang, [1889], at sacred-texts.com\\n\\n[f01]\\n\\nTHE BRONZE RING\\n\\nOnce upon a time in a certain country there lived a king whose palace was surrounded by a spacious garden. But, t'"
      ]
     },
     "execution_count": 35,
     "metadata": {},
     "output_type": "execute_result"
    }
   ],
   "source": [
    "txt = gzip_txt('blfb.txt.gz')\n",
    "\n",
    "# Preview the first 1500 characters\n",
    "txt[:1500]"
   ]
  },
  {
   "cell_type": "markdown",
   "id": "89c5a00b",
   "metadata": {},
   "source": [
    "## Extract Stories\n",
    "\n",
    "Having got the contents, let's now extract all the stories.\n",
    "\n",
    "Within each book, the stories are delimited by a pattern `[fNN]` (for digits `N`). We can use this pattern to split out the stories."
   ]
  },
  {
   "cell_type": "code",
   "execution_count": 36,
   "id": "2619127c",
   "metadata": {},
   "outputs": [],
   "source": [
    "import re\n",
    "\n",
    "# Split on the patter: [fNN]\n",
    "stories = re.split(\"\\[f\\d{2}\\]\", txt)\n",
    "\n",
    "# Strip whitespace at start and end\n",
    "stories = [s.strip(\"\\n\") for s in stories]"
   ]
  },
  {
   "cell_type": "markdown",
   "id": "2b7128ed",
   "metadata": {},
   "source": [
    "## Extract the contents\n",
    "\n",
    "The contents appear in the first \"story chunk\" (index `0`) in the text:"
   ]
  },
  {
   "cell_type": "code",
   "execution_count": 37,
   "id": "1029a037",
   "metadata": {},
   "outputs": [
    {
     "data": {
      "text/plain": [
       "'The Blue Fairy Book, by Andrew Lang, [1889], at sacred-texts.com\\n\\nTHE BLUE FAIRY BOOK\\n\\nby Andrew Lang\\n\\nLondon, New York: Longmans, Green\\n\\n[1889]\\n\\nThe Blue Fairy Book, by Andrew Lang, [1889], at sacred-texts.com\\n\\nCONTENTS\\n\\n[*THE BRONZE RING]\\n\\n[*PRINCE HYACINTH AND THE DEAR LITTLE PRINCESS]\\n\\n[*EAST OF THE SUN AND WEST OF THE MOON]\\n\\n[*THE YELLOW DWARF]\\n\\n[*LITTLE RED RIDING-HOOD]\\n\\n[*THE SLEEPING BEAUTY IN THE WOOD]\\n\\n[*CINDERELLA; OR, THE LITTLE GLASS SLIPPER]\\n\\n[*ALADDIN AND THE WONDERFUL LAMP]\\n\\n[*THE TALE OF A YOUTH WHO SET OUT TO LEARN WHAT FEAR WAS]\\n\\n[*RUMPELSTILTZKIN]\\n\\n[*BEAUTY AND THE BEAST]\\n\\n[*THE MASTER-MAID]\\n\\n[*WHY THE SEA IS SALT]\\n\\n[*THE MASTER CAT; OR, PUSS IN BOOTS]\\n\\n[*FELICIA AND THE POT OF PINKS]\\n\\n[*THE WHITE CAT]\\n\\n[*THE WATER-LILY. THE GOLD-SPINNERS]\\n\\n[*THE TERRIBLE HEAD]\\n\\n[*THE STORY OF PRETTY GOLDILOCKS]\\n\\n[*THE HISTORY OF WHITTINGTON]\\n\\n[*THE WONDERFUL SHEEP]\\n\\n[*LITTLE THUMB]\\n\\n[*THE FORTY THIEVES]\\n\\n[*HANSEL AND GRETTEL]\\n\\n[*SNOW-WHITE AND ROSE-RED]\\n\\n[*THE GOOSE-GIRL]\\n\\n[*TOADS AND DIAMONDS]\\n\\n[*PRINCE DARLING]\\n\\n[*BLUE BEARD]\\n\\n[*TRUSTY JOHN]\\n\\n[*THE BRAVE LITTLE TAILOR]\\n\\n[*A VOYAGE TO LILLIPUT]\\n\\n[*THE PRINCESS ON THE GLASS HILL]\\n\\n[*THE STORY OF PRINCE AHMED AND THE FAIRY PARIBANOU]\\n\\n[*THE HISTORY OF JACK THE GIANT-KILLER]\\n\\n[*THE BLACK BULL OF NORROWAY]\\n\\n[*THE RED ETIN]\\n\\nThe Blue Fairy Book, by Andrew Lang, [1889], at sacred-texts.com'"
      ]
     },
     "execution_count": 37,
     "metadata": {},
     "output_type": "execute_result"
    }
   ],
   "source": [
    "stories[0]"
   ]
  },
  {
   "cell_type": "markdown",
   "id": "07b4ecda",
   "metadata": {},
   "source": [
    "Let's pull out the book name:"
   ]
  },
  {
   "cell_type": "code",
   "execution_count": 38,
   "id": "35a8ec0d",
   "metadata": {},
   "outputs": [
    {
     "data": {
      "text/plain": [
       "'The Blue Fairy Book'"
      ]
     },
     "execution_count": 38,
     "metadata": {},
     "output_type": "execute_result"
    }
   ],
   "source": [
    "# The name appears before the first comma\n",
    "book = stories[0].split(\",\")[0]\n",
    "book"
   ]
  },
  {
   "cell_type": "markdown",
   "id": "9e88de5f",
   "metadata": {},
   "source": [
    "Alternatively, we could extract against a pattern:"
   ]
  },
  {
   "cell_type": "code",
   "execution_count": 376,
   "id": "021a1345",
   "metadata": {},
   "outputs": [
    {
     "data": {
      "text/plain": [
       "('The Red Fairy Book', '1890')"
      ]
     },
     "execution_count": 376,
     "metadata": {},
     "output_type": "execute_result"
    }
   ],
   "source": [
    "#The Blue Fairy Book, by Andrew Lang, [1889], at sacred-texts.com\n",
    "metadata = parse.parse(\"{title}, by Andrew Lang, [{date}]{}, at sacred-texts.com\", stories[0])\n",
    "\n",
    "metadata[\"title\"], metadata[\"date\"]"
   ]
  },
  {
   "cell_type": "markdown",
   "id": "d65d36cf",
   "metadata": {},
   "source": [
    "There are plenty of cribs to help us pull out the contents, although it may not be obviously clear with the early content items whether they are stories or not..."
   ]
  },
  {
   "cell_type": "code",
   "execution_count": 39,
   "id": "86a28338",
   "metadata": {},
   "outputs": [
    {
     "data": {
      "text/plain": [
       "['The Blue Fairy Book, by Andrew Lang, [1889], at sacred-texts.com\\n\\nTHE BLUE FAIRY BOOK\\n\\nby Andrew Lang\\n\\nLondon, New York: Longmans, Green\\n\\n[1889]\\n\\nThe Blue Fairy Book, by Andrew Lang, [1889], at sacred-texts.com\\n\\n',\n",
       " 'CONTENTS',\n",
       " '\\n\\n[*THE BRONZE RING]\\n\\n[*PRINCE HYACINTH AND THE DEAR LITTLE PRINCESS]\\n\\n[*EAST OF THE SUN AND WEST OF THE MOON]\\n\\n[*THE YELLOW DWARF]\\n\\n[*LITTLE RED RIDING-HOOD]\\n\\n[*THE SLEEPING BEAUTY IN THE WOOD]\\n\\n[*CINDERELLA; OR, THE LITTLE GLASS SLIPPER]\\n\\n[*ALADDIN AND THE WONDERFUL LAMP]\\n\\n[*THE TALE OF A YOUTH WHO SET OUT TO LEARN WHAT FEAR WAS]\\n\\n[*RUMPELSTILTZKIN]\\n\\n[*BEAUTY AND THE BEAST]\\n\\n[*THE MASTER-MAID]\\n\\n[*WHY THE SEA IS SALT]\\n\\n[*THE MASTER CAT; OR, PUSS IN BOOTS]\\n\\n[*FELICIA AND THE POT OF PINKS]\\n\\n[*THE WHITE CAT]\\n\\n[*THE WATER-LILY. THE GOLD-SPINNERS]\\n\\n[*THE TERRIBLE HEAD]\\n\\n[*THE STORY OF PRETTY GOLDILOCKS]\\n\\n[*THE HISTORY OF WHITTINGTON]\\n\\n[*THE WONDERFUL SHEEP]\\n\\n[*LITTLE THUMB]\\n\\n[*THE FORTY THIEVES]\\n\\n[*HANSEL AND GRETTEL]\\n\\n[*SNOW-WHITE AND ROSE-RED]\\n\\n[*THE GOOSE-GIRL]\\n\\n[*TOADS AND DIAMONDS]\\n\\n[*PRINCE DARLING]\\n\\n[*BLUE BEARD]\\n\\n[*TRUSTY JOHN]\\n\\n[*THE BRAVE LITTLE TAILOR]\\n\\n[*A VOYAGE TO LILLIPUT]\\n\\n[*THE PRINCESS ON THE GLASS HILL]\\n\\n[*THE STORY OF PRINCE AHMED AND THE FAIRY PARIBANOU]\\n\\n[*THE HISTORY OF JACK THE GIANT-KILLER]\\n\\n[*THE BLACK BULL OF NORROWAY]\\n\\n[*THE RED ETIN]\\n\\nThe Blue Fairy Book, by Andrew Lang, [1889], at sacred-texts.com']"
      ]
     },
     "execution_count": 39,
     "metadata": {},
     "output_type": "execute_result"
    }
   ],
   "source": [
    "# There is a Contents header, but it may be cased...\n",
    "# So split in a case insensitive way\n",
    "boilerplate = re.split('(Contents|CONTENTS)', stories[0])\n",
    "boilerplate"
   ]
  },
  {
   "cell_type": "code",
   "execution_count": 40,
   "id": "4e917c73",
   "metadata": {},
   "outputs": [
    {
     "data": {
      "text/plain": [
       "'[*THE BRONZE RING]\\n\\n[*PRINCE HYACINTH AND THE DEAR LITTLE PRINCESS]\\n\\n[*EAST OF THE SUN AND WEST OF THE MOON]\\n\\n[*THE YELLOW DWARF]\\n\\n[*LITTLE RED RIDING-HOOD]\\n\\n[*THE SLEEPING BEAUTY IN THE WOOD]\\n\\n[*CINDERELLA; OR, THE LITTLE GLASS SLIPPER]\\n\\n[*ALADDIN AND THE WONDERFUL LAMP]\\n\\n[*THE TALE OF A YOUTH WHO SET OUT TO LEARN WHAT FEAR WAS]\\n\\n[*RUMPELSTILTZKIN]\\n\\n[*BEAUTY AND THE BEAST]\\n\\n[*THE MASTER-MAID]\\n\\n[*WHY THE SEA IS SALT]\\n\\n[*THE MASTER CAT; OR, PUSS IN BOOTS]\\n\\n[*FELICIA AND THE POT OF PINKS]\\n\\n[*THE WHITE CAT]\\n\\n[*THE WATER-LILY. THE GOLD-SPINNERS]\\n\\n[*THE TERRIBLE HEAD]\\n\\n[*THE STORY OF PRETTY GOLDILOCKS]\\n\\n[*THE HISTORY OF WHITTINGTON]\\n\\n[*THE WONDERFUL SHEEP]\\n\\n[*LITTLE THUMB]\\n\\n[*THE FORTY THIEVES]\\n\\n[*HANSEL AND GRETTEL]\\n\\n[*SNOW-WHITE AND ROSE-RED]\\n\\n[*THE GOOSE-GIRL]\\n\\n[*TOADS AND DIAMONDS]\\n\\n[*PRINCE DARLING]\\n\\n[*BLUE BEARD]\\n\\n[*TRUSTY JOHN]\\n\\n[*THE BRAVE LITTLE TAILOR]\\n\\n[*A VOYAGE TO LILLIPUT]\\n\\n[*THE PRINCESS ON THE GLASS HILL]\\n\\n[*THE STORY OF PRINCE AHMED AND THE FAIRY PARIBANOU]\\n\\n[*THE HISTORY OF JACK THE GIANT-KILLER]\\n\\n[*THE BLACK BULL OF NORROWAY]\\n\\n[*THE RED ETIN]'"
      ]
     },
     "execution_count": 40,
     "metadata": {},
     "output_type": "execute_result"
    }
   ],
   "source": [
    "# The name of the book repeats at the end of the content block\n",
    "# So snip it out... \n",
    "contents_ = boilerplate[-1].split(book)[0].strip(\"\\n\")\n",
    "contents_"
   ]
  },
  {
   "cell_type": "markdown",
   "id": "96b7167a",
   "metadata": {},
   "source": [
    "We can parse out titles from the contents list based on a pattern:"
   ]
  },
  {
   "cell_type": "code",
   "execution_count": 41,
   "id": "2ca92a1c",
   "metadata": {},
   "outputs": [
    {
     "data": {
      "text/plain": [
       "['The Bronze Ring',\n",
       " 'Prince Hyacinth And The Dear Little Princess',\n",
       " 'East Of The Sun And West Of The Moon',\n",
       " 'The Yellow Dwarf',\n",
       " 'Little Red Riding-Hood',\n",
       " 'The Sleeping Beauty In The Wood',\n",
       " 'Cinderella; Or, The Little Glass Slipper',\n",
       " 'Aladdin And The Wonderful Lamp',\n",
       " 'The Tale Of A Youth Who Set Out To Learn What Fear Was',\n",
       " 'Rumpelstiltzkin',\n",
       " 'Beauty And The Beast',\n",
       " 'The Master-Maid',\n",
       " 'Why The Sea Is Salt',\n",
       " 'The Master Cat; Or, Puss In Boots',\n",
       " 'Felicia And The Pot Of Pinks',\n",
       " 'The White Cat',\n",
       " 'The Water-Lily. The Gold-Spinners',\n",
       " 'The Terrible Head',\n",
       " 'The Story Of Pretty Goldilocks',\n",
       " 'The History Of Whittington',\n",
       " 'The Wonderful Sheep',\n",
       " 'Little Thumb',\n",
       " 'The Forty Thieves',\n",
       " 'Hansel And Grettel',\n",
       " 'Snow-White And Rose-Red',\n",
       " 'The Goose-Girl',\n",
       " 'Toads And Diamonds',\n",
       " 'Prince Darling',\n",
       " 'Blue Beard',\n",
       " 'Trusty John',\n",
       " 'The Brave Little Tailor',\n",
       " 'A Voyage To Lilliput',\n",
       " 'The Princess On The Glass Hill',\n",
       " 'The Story Of Prince Ahmed And The Fairy Paribanou',\n",
       " 'The History Of Jack The Giant-Killer',\n",
       " 'The Black Bull Of Norroway',\n",
       " 'The Red Etin']"
      ]
     },
     "execution_count": 41,
     "metadata": {},
     "output_type": "execute_result"
    }
   ],
   "source": [
    "import parse\n",
    "\n",
    "contents = parse.findall(\"[*{}]\", contents_)\n",
    "\n",
    "# The title text available as item.fixed[0]\n",
    "# Also convert the title to title case\n",
    "titles = [item.fixed[0].title() for item in contents]\n",
    "titles"
   ]
  },
  {
   "cell_type": "markdown",
   "id": "740cad6b",
   "metadata": {},
   "source": [
    "## Coping With Page Numbers\n",
    "\n",
    "There seems to be work in progress adding page numbers to books using a pattern of the form `[p. ix]`, `[p. 1]`, `[p. 11]` and so on.\n",
    "\n",
    "For now, let's create a regular expression substitution to remove those..."
   ]
  },
  {
   "cell_type": "code",
   "execution_count": 94,
   "id": "115004cf",
   "metadata": {},
   "outputs": [
    {
     "data": {
      "text/plain": [
       "\"[f01]THE YELLOW FAIRY BOOK\\n\\nTHE CAT AND THE MOUSE IN PARTNERSHIP\\n\\nA cat had made acquaintance with a mouse, and had spoken so much of the great love and friendship she felt for her, that at last the Mouse consented to live in the same house with her, and to go shares in the housekeeping.  'But we must provide for the winter or else we shall suffer hunger,' said the Cat.  'You, little Mouse, cannot venture everywhere in case you run at last into a trap.'  This good counsel was followed, and a little pot of fat was bought.  But they did not know where to put it.  At length, after long consultation, the Cat said, 'I know of no place where it could be better put than in the church.  No one will trouble to take it away from there.  We will hide it in a corner, and we won't touch it till we are in want.'  So the little pot was placed in safety; but it was not long before the Cat had a great longing for it, and said to the Mouse, 'I wanted to tell you, little Mouse, that my cousin has a little son, white with brown spots, and she wants me to be godmother to it.  Let me go out to-day, and do you take care of the house alone.''Yes, go certainly,' replied the Mouse, 'and when you eat anything good, think of me; I should very much like a drop of the red christening wine.'\\n\\nBut it was all untrue.  The Cat had no cousin, and had not been asked to be godmother.  She went straight to the church, slunk to the little pot of fat, began to lick it, and licked the top off.  Then she took a walk on the roofs of the town, looked at the view, stretchedherself out in the sun, and licked her lips whenever she thought of the little pot of fat.  As soon as it was evening she went home again.\\n\""
      ]
     },
     "execution_count": 94,
     "metadata": {},
     "output_type": "execute_result"
    }
   ],
   "source": [
    "example = \"\"\"[f01]\n",
    "[p. ix]\n",
    "\n",
    "THE YELLOW FAIRY BOOK\n",
    "\n",
    "THE CAT AND THE MOUSE IN PARTNERSHIP\n",
    "\n",
    "A cat had made acquaintance with a mouse, and had spoken so much of the great love and friendship she felt for her, that at last the Mouse consented to live in the same house with her, and to go shares in the housekeeping.  'But we must provide for the winter or else we shall suffer hunger,' said the Cat.  'You, little Mouse, cannot venture everywhere in case you run at last into a trap.'  This good counsel was followed, and a little pot of fat was bought.  But they did not know where to put it.  At length, after long consultation, the Cat said, 'I know of no place where it could be better put than in the church.  No one will trouble to take it away from there.  We will hide it in a corner, and we won't touch it till we are in want.'  So the little pot was placed in safety; but it was not long before the Cat had a great longing for it, and said to the Mouse, 'I wanted to tell you, little Mouse, that my cousin has a little son, white with brown spots, and she wants me to be godmother to it.  Let me go out to-day, and do you take care of the house alone.'\n",
    "\n",
    "[p. 1]\n",
    "\n",
    "'Yes, go certainly,' replied the Mouse, 'and when you eat anything good, think of me; I should very much like a drop of the red christening wine.'\n",
    "\n",
    "But it was all untrue.  The Cat had no cousin, and had not been asked to be godmother.  She went straight to the church, slunk to the little pot of fat, began to lick it, and licked the top off.  Then she took a walk on the roofs of the town, looked at the view, stretched\n",
    "\n",
    "[P. 22]\n",
    "\n",
    "herself out in the sun, and licked her lips whenever she thought of the little pot of fat.  As soon as it was evening she went home again.\n",
    "\"\"\"\n",
    "\n",
    "# Example of regex to remove page numbers\n",
    "re.sub(r'\\n*\\[[pP]\\. [^\\]\\s]*\\]\\n\\n', '', example)"
   ]
  },
  {
   "cell_type": "markdown",
   "id": "17cc0a0e",
   "metadata": {},
   "source": [
    "## Pulling the Parser Together\n",
    "\n",
    "Let's create a function to parse the book for us by pulling together all the previous fragments:"
   ]
  },
  {
   "cell_type": "code",
   "execution_count": 42,
   "id": "7bdab34b",
   "metadata": {},
   "outputs": [],
   "source": [
    "def parse_book(txt):\n",
    "    \"\"\"Parse book from text.\"\"\"\n",
    "    \n",
    "    # Get story chunks\n",
    "    stories = re.split(\"\\[f\\d{2}\\]\", txt)\n",
    "    stories = [s.strip(\"\\n\") for s in stories]\n",
    "    \n",
    "    # Get book name\n",
    "    book = stories[0].split(\",\")[0]\n",
    "    \n",
    "    # Process contents\n",
    "    boilerplate = re.split('(Contents|CONTENTS)', stories[0])\n",
    "\n",
    "    # The name of the book repeats at the end of the content block\n",
    "    # So snip it out... \n",
    "    contents_ = boilerplate[-1].split(book)[0].strip(\"\\n\")\n",
    "    \n",
    "    # Get titles from contents\n",
    "    titles = [item.fixed[0].title() for item in contents]\n",
    "    \n",
    "    return book, stories, titles"
   ]
  },
  {
   "cell_type": "markdown",
   "id": "c9b5a11c",
   "metadata": {},
   "source": [
    "## Create Simple Database Structure\n",
    "\n",
    "Let's create a simple database structure and configure it for full text search:"
   ]
  },
  {
   "cell_type": "code",
   "execution_count": 298,
   "id": "e22d5368",
   "metadata": {},
   "outputs": [
    {
     "data": {
      "text/plain": [
       "<Table books (book, title, text, last_line, provenance)>"
      ]
     },
     "execution_count": 298,
     "metadata": {},
     "output_type": "execute_result"
    }
   ],
   "source": [
    "from sqlite_utils import Database\n",
    "\n",
    "# While developing the script, recreate database each time...\n",
    "db_name = \"demo.db\"\n",
    "db = Database(db_name, recreate=True)\n",
    "\n",
    "# This schema has been evolved iteratively as I have identified structure\n",
    "# that can be usefully mined...\n",
    "\n",
    "db[\"books\"].create({\n",
    "    \"book\": str,\n",
    "    \"title\": str,\n",
    "    \"text\": str,\n",
    "    \"last_line\": str, # sometimes contains provenance\n",
    "    \"provenance\": str, # attempt at provenance\n",
    "}, pk=(\"book\", \"title\"))\n",
    "\n",
    "db[\"books\"].enable_fts([\"title\", \"text\"], create_triggers=True)"
   ]
  },
  {
   "cell_type": "markdown",
   "id": "f2129269",
   "metadata": {},
   "source": [
    "## Build Database\n",
    "\n",
    "Let's now create a function that can populate our database based on the contents of one of the books:"
   ]
  },
  {
   "cell_type": "code",
   "execution_count": 299,
   "id": "bfe3773c",
   "metadata": {},
   "outputs": [],
   "source": [
    "def extract_book_stories(db_tbl, book, stories, titles=None, quiet=False):\n",
    "    book_items = []\n",
    "\n",
    "    # The titles are from the contents list\n",
    "    # We will actually grab titles from the story\n",
    "    # but the titles grabbed from the contents can be passed in\n",
    "    # if we want to write a check against them.\n",
    "    # Note: there may be punctation differnces in the title in the contents\n",
    "    # and the actual title in the text\n",
    "    for story in stories[1:]:\n",
    "        # Remove the page numbers for now...\n",
    "        story = re.sub(r'\\n*\\[[pP]\\. [^\\]\\s]*\\]\\n\\n', '', story).strip(\"\\n\")\n",
    "        # Other cleaning\n",
    "        story = re.sub(r'\\[\\*\\d+\\s*\\]', '', story)\n",
    "        \n",
    "        # Get the title from the start of the story text\n",
    "        story_ = story.split(\"\\n\\n\")\n",
    "        title_ = story_[0].strip()\n",
    "\n",
    "        # Force the title case variant of the title\n",
    "        title = title_.title().replace(\"'S\", \"'s\")\n",
    "    \n",
    "        # Optionally display the titles and the book\n",
    "        if not quiet:\n",
    "            print(f\"{title} :: {book}\")\n",
    "\n",
    "        # Reassemble the story\n",
    "        text = \"\\n\\n\".join(story_[1:])\n",
    "        \n",
    "        # Clean out the name of the book if it is in the text\n",
    "        #The Green Fairy Book, by Andrew Lang, [1892], at sacred-texts.com\n",
    "        name_ignorecase = re.compile(f\"{book}, by Andrew Lang, \\[\\d*\\], at sacred-texts.com\", re.IGNORECASE)\n",
    "        text = name_ignorecase.sub('', text).strip()\n",
    "        \n",
    "        last_line = text.split(\"\\n\")[-1]\n",
    "        \n",
    "        provenance_1 = parse.parse('[{}] {provenance}', last_line)\n",
    "        provenance_2 = parse.parse('[{provenance}]', last_line)\n",
    "        provenance_3 = parse.parse('({provenance})', last_line)\n",
    "        provenance_4 = {\"provenance\":last_line} if len(last_line.split())<7 else {} # Heuristic\n",
    "        provenance_ = provenance_1 or provenance_2 or provenance_3 or provenance_4\n",
    "        \n",
    "        provenance = provenance_[\"provenance\"] if provenance_ else \"\"\n",
    "        book_items.append({\"book\": book,\n",
    "                           \"title\": title,\n",
    "                           \"text\": text,\n",
    "                           \"last_line\": last_line,\n",
    "                           \"provenance\": provenance})\n",
    "        \n",
    "    db_tbl.upsert_all(book_items, pk=(\"book\", \"title\" ))"
   ]
  },
  {
   "cell_type": "markdown",
   "id": "e65263ec",
   "metadata": {},
   "source": [
    "We can add the data for a particular book by passing in the titles and stories:"
   ]
  },
  {
   "cell_type": "code",
   "execution_count": 300,
   "id": "6a98cdef",
   "metadata": {},
   "outputs": [
    {
     "name": "stdout",
     "output_type": "stream",
     "text": [
      "Preface :: The Red Fairy Book\n",
      "The Twelve Dancing Princesses :: The Red Fairy Book\n",
      "The Princess Mayblossom :: The Red Fairy Book\n",
      "Soria Moria Castle :: The Red Fairy Book\n",
      "The Death Of Koshchei The Deathless :: The Red Fairy Book\n",
      "The Black Thief And Knight Of The Glen. :: The Red Fairy Book\n",
      "The Master Thief :: The Red Fairy Book\n",
      "Brother And Sister :: The Red Fairy Book\n",
      "Princess Rosette :: The Red Fairy Book\n",
      "The Enchanted Pig :: The Red Fairy Book\n",
      "The Norka :: The Red Fairy Book\n",
      "The Wonderful Birch :: The Red Fairy Book\n",
      "Jack And The Beanstalk :: The Red Fairy Book\n",
      "The Little Good Mouse :: The Red Fairy Book\n",
      "Graciosa And Percinet :: The Red Fairy Book\n",
      "The Three Princesses Of Whiteland :: The Red Fairy Book\n",
      "The Voice Of Death :: The Red Fairy Book\n",
      "The Six Sillies :: The Red Fairy Book\n",
      "Kari Woodengown :: The Red Fairy Book\n",
      "Drakestail :: The Red Fairy Book\n",
      "The Ratcatcher :: The Red Fairy Book\n",
      "The True History Of Little Golden Hood :: The Red Fairy Book\n",
      "The Golden Branch :: The Red Fairy Book\n",
      "The Three Dwarfs :: The Red Fairy Book\n",
      "Dapplegrim :: The Red Fairy Book\n",
      "The Enchanted Canary :: The Red Fairy Book\n",
      "The Twelve Brothers :: The Red Fairy Book\n",
      "Rapunzel :: The Red Fairy Book\n",
      "The Nettle Spinner :: The Red Fairy Book\n",
      "Farmer Weatherbeard :: The Red Fairy Book\n",
      "Mother Holle :: The Red Fairy Book\n",
      "Minnikin :: The Red Fairy Book\n",
      "Bushy Bride :: The Red Fairy Book\n",
      "Snowdrop :: The Red Fairy Book\n",
      "The Golden Goose :: The Red Fairy Book\n",
      "The Seven Foals :: The Red Fairy Book\n",
      "The Marvellous Musician :: The Red Fairy Book\n",
      "The Story Of Sigurd :: The Red Fairy Book\n"
     ]
    }
   ],
   "source": [
    "book, stories, titles = parse_book(txt)\n",
    "\n",
    "extract_book_stories(db[\"books\"], book, stories)"
   ]
  },
  {
   "cell_type": "markdown",
   "id": "c4f013c4",
   "metadata": {},
   "source": [
    "We can run a full text search over the stories. For example, if we are looking for a story with a king and three sons:"
   ]
  },
  {
   "cell_type": "code",
   "execution_count": 301,
   "id": "eaa401a3",
   "metadata": {},
   "outputs": [
    {
     "name": "stdout",
     "output_type": "stream",
     "text": [
      "{'title': 'The Black Thief And Knight Of The Glen.', 'book': 'The Red Fairy Book'}\n",
      "{'title': 'The Golden Goose', 'book': 'The Red Fairy Book'}\n",
      "{'title': 'The Norka', 'book': 'The Red Fairy Book'}\n",
      "{'title': 'The Seven Foals', 'book': 'The Red Fairy Book'}\n",
      "{'title': 'The Story Of Sigurd', 'book': 'The Red Fairy Book'}\n"
     ]
    }
   ],
   "source": [
    "q = 'king \"three sons\"'\n",
    "\n",
    "for story in db[\"books\"].search(db.quote_fts(q), columns=[\"title\", \"book\"]):\n",
    "    print(story)"
   ]
  },
  {
   "cell_type": "markdown",
   "id": "f65096e9",
   "metadata": {},
   "source": [
    "We can also churn through all the books and add them to the database:"
   ]
  },
  {
   "cell_type": "code",
   "execution_count": 302,
   "id": "531b97b4",
   "metadata": {},
   "outputs": [],
   "source": [
    "import os\n",
    "\n",
    "for fn in [fn for fn in os.listdir() if fn.endswith(\".gz\")]:\n",
    "    # Read in book from gzip file\n",
    "    txt = gzip_txt(fn)\n",
    "    # Parse book\n",
    "    book, stories, titles = parse_book(txt)\n",
    "    # Extract stories and add them to the database\n",
    "    extract_book_stories(db[\"books\"], book, stories, quiet=True)"
   ]
  },
  {
   "cell_type": "markdown",
   "id": "5e8f43be",
   "metadata": {},
   "source": [
    "How many stories do we now have with a king and three sons?"
   ]
  },
  {
   "cell_type": "code",
   "execution_count": 303,
   "id": "68f98732",
   "metadata": {},
   "outputs": [
    {
     "name": "stdout",
     "output_type": "stream",
     "text": [
      "Search on: king \"three sons\"\n",
      "\n",
      "{'title': 'The Three Brothers', 'book': 'The Pink Fairy Book'}\n",
      "{'title': 'The Princess Who Was Hidden Underground', 'book': 'The Violet Fairy Book'}\n",
      "{'title': 'The Black Thief And Knight Of The Glen.', 'book': 'The Red Fairy Book'}\n",
      "{'title': 'Blockhead-Hans', 'book': 'The Yellow Fairy Book'}\n",
      "{'title': 'The Golden Lion', 'book': 'The Pink Fairy Book'}\n",
      "{'title': 'The Golden Goose', 'book': 'The Red Fairy Book'}\n",
      "{'title': 'The Master Cat; Or, Puss In Boots', 'book': 'The Blue Fairy Book'}\n",
      "{'title': 'The Enchanted Watch', 'book': 'The Green Fairy Book'}\n",
      "{'title': 'The Story Of The Fair Circassians', 'book': 'The Grey Fairy Book'}\n",
      "{'title': 'The Norka', 'book': 'The Red Fairy Book'}\n",
      "{'title': 'Tritill, Litill, And The Birds', 'book': 'The Crimson Fairy Book'}\n",
      "{'title': 'The Seven Foals', 'book': 'The Red Fairy Book'}\n",
      "{'title': 'The Witch And Her Servants', 'book': 'The Yellow Fairy Book'}\n",
      "{'title': 'The Flying Ship', 'book': 'The Yellow Fairy Book'}\n",
      "{'title': \"How The Hermit Helped To Win The King's Daughter\", 'book': 'The Pink Fairy Book'}\n",
      "{'title': 'The Prince And The Dragon', 'book': 'The Crimson Fairy Book'}\n",
      "{'title': 'The Story Of Sigurd', 'book': 'The Red Fairy Book'}\n",
      "{'title': \"The Magician's Horse\", 'book': 'The Grey Fairy Book'}\n",
      "{'title': \"The Bird 'Grip'\", 'book': 'The Pink Fairy Book'}\n",
      "{'title': 'The Three Treasures Of The Giants', 'book': 'The Orange Fairy Book'}\n",
      "{'title': 'The Golden Mermaid', 'book': 'The Green Fairy Book'}\n",
      "{'title': 'Pinkel The Thief', 'book': 'The Orange Fairy Book'}\n",
      "{'title': 'Jesper Who Herded The Hares', 'book': 'The Violet Fairy Book'}\n",
      "{'title': \"Ian, The Soldier's Son\", 'book': 'The Orange Fairy Book'}\n",
      "{'title': 'The Story Of Ciccu', 'book': 'The Pink Fairy Book'}\n",
      "{'title': 'The White Cat', 'book': 'The Blue Fairy Book'}\n",
      "{'title': 'The Story Of Prince Ahmed And The Fairy Paribanou', 'book': 'The Blue Fairy Book'}\n"
     ]
    }
   ],
   "source": [
    "print(f\"Search on: {q}\\n\")\n",
    "\n",
    "for story in db[\"books\"].search(db.quote_fts(q), columns=[\"title\", \"book\"]):\n",
    "    print(story)"
   ]
  },
  {
   "cell_type": "markdown",
   "id": "d0dfc253",
   "metadata": {},
   "source": [
    "How about Jack stories?"
   ]
  },
  {
   "cell_type": "code",
   "execution_count": 304,
   "id": "59eaa0ed",
   "metadata": {},
   "outputs": [
    {
     "name": "stdout",
     "output_type": "stream",
     "text": [
      "{'title': 'The History Of Jack The Giant-Killer', 'book': 'The Blue Fairy Book'}\n",
      "{'title': 'Jack And The Beanstalk', 'book': 'The Red Fairy Book'}\n",
      "{'title': 'Jack My Hedgehog', 'book': 'The Green Fairy Book'}\n",
      "{'title': 'The Three Treasures Of The Giants', 'book': 'The Orange Fairy Book'}\n",
      "{'title': 'Farmer Weatherbeard', 'book': 'The Red Fairy Book'}\n",
      "{'title': 'The Shirt-Collar', 'book': 'The Pink Fairy Book'}\n",
      "{'title': 'To The Friendly Reader', 'book': 'The Green Fairy Book'}\n",
      "{'title': 'Preface', 'book': 'The Red Fairy Book'}\n",
      "{'title': 'Preface', 'book': 'The Orange Fairy Book'}\n",
      "{'title': 'The Princess Mayblossom', 'book': 'The Red Fairy Book'}\n",
      "{'title': 'Tale Of A Tortoise And Of A Mischievous Monkey', 'book': 'The Brown Fairy Book'}\n"
     ]
    }
   ],
   "source": [
    "for story in db[\"books\"].search(\"Jack\", columns=[\"title\", \"book\"]):\n",
    "    print(story)"
   ]
  },
  {
   "cell_type": "markdown",
   "id": "7b0f90e9",
   "metadata": {},
   "source": [
    "Ah... so maybe *Preface* is something we could also catch and exclude... And perhaps *To The Friendly Reader* as a special exception."
   ]
  },
  {
   "cell_type": "markdown",
   "id": "c12cd105",
   "metadata": {},
   "source": [
    "Or Hans?"
   ]
  },
  {
   "cell_type": "code",
   "execution_count": 305,
   "id": "478374f0",
   "metadata": {},
   "outputs": [
    {
     "name": "stdout",
     "output_type": "stream",
     "text": [
      "{'title': \"Hans, The Mermaid's Son\", 'book': 'The Pink Fairy Book'}\n",
      "{'title': 'The Headless Dwarfs', 'book': 'The Violet Fairy Book'}\n",
      "{'title': 'Blockhead-Hans', 'book': 'The Yellow Fairy Book'}\n",
      "{'title': 'The Underground Workers', 'book': 'The Violet Fairy Book'}\n",
      "{'title': 'The Magic Book', 'book': 'The Orange Fairy Book'}\n",
      "{'title': 'Preface', 'book': 'The Yellow Fairy Book'}\n",
      "{'title': 'The Shirt-Collar', 'book': 'The Pink Fairy Book'}\n",
      "{'title': 'The Goblin And The Grocer', 'book': 'The Pink Fairy Book'}\n",
      "{'title': 'The Flying Trunk', 'book': 'The Pink Fairy Book'}\n",
      "{'title': 'The Snow-Man', 'book': 'The Pink Fairy Book'}\n",
      "{'title': 'The Fir-Tree', 'book': 'The Pink Fairy Book'}\n",
      "{'title': 'The Daughter Of Buk Ettemsuch', 'book': 'The Grey Fairy Book'}\n",
      "{'title': 'The Story Of Halfman', 'book': 'The Violet Fairy Book'}\n",
      "{'title': 'Udea And Her Seven Brothers', 'book': 'The Grey Fairy Book'}\n",
      "{'title': 'The Ugly Duckling', 'book': 'The Orange Fairy Book'}\n",
      "{'title': 'The Snow-Queen', 'book': 'The Pink Fairy Book'}\n"
     ]
    }
   ],
   "source": [
    "for story in db[\"books\"].search(\"Hans\", columns=[\"title\", \"book\"]):\n",
    "    print(story)"
   ]
  },
  {
   "cell_type": "markdown",
   "id": "e17d3420",
   "metadata": {},
   "source": [
    "I seem to recall there may have been some sources at the end of some texts? A quick text for that is to see if there is any mention of `Grimm`:"
   ]
  },
  {
   "cell_type": "code",
   "execution_count": 306,
   "id": "af4f3afd",
   "metadata": {},
   "outputs": [
    {
     "name": "stdout",
     "output_type": "stream",
     "text": [
      "{'title': 'Preface', 'book': 'The Crimson Fairy Book'}\n",
      "{'title': 'The Three Brothers', 'book': 'The Pink Fairy Book'}\n",
      "{'title': 'To The Friendly Reader', 'book': 'The Green Fairy Book'}\n",
      "{'title': 'Jorinde And Joringel', 'book': 'The Green Fairy Book'}\n",
      "{'title': 'Spindle, Shuttle, And Needle', 'book': 'The Green Fairy Book'}\n",
      "{'title': 'The Marvellous Musician', 'book': 'The Red Fairy Book'}\n",
      "{'title': 'Rumpelstiltzkin', 'book': 'The Blue Fairy Book'}\n",
      "{'title': 'The Twelve Huntsmen', 'book': 'The Green Fairy Book'}\n",
      "{'title': 'The Riddle', 'book': 'The Green Fairy Book'}\n",
      "{'title': 'Mother Holle', 'book': 'The Red Fairy Book'}\n",
      "{'title': 'The Story Of A Clever Tailor', 'book': 'The Green Fairy Book'}\n",
      "{'title': 'The Three Snake-Leaves', 'book': 'The Green Fairy Book'}\n",
      "{'title': 'The War Of The Wolf And The Fox', 'book': 'The Green Fairy Book'}\n",
      "{'title': 'Rapunzel', 'book': 'The Red Fairy Book'}\n",
      "{'title': 'The White Snake', 'book': 'The Green Fairy Book'}\n",
      "{'title': 'The House In The Wood', 'book': 'The Pink Fairy Book'}\n",
      "{'title': 'The Golden Goose', 'book': 'The Red Fairy Book'}\n",
      "{'title': 'The Three Dogs', 'book': 'The Green Fairy Book'}\n",
      "{'title': 'The Twelve Brothers', 'book': 'The Red Fairy Book'}\n",
      "{'title': 'The Iron Stove', 'book': 'The Yellow Fairy Book'}\n",
      "{'title': 'The Golden Lads', 'book': 'The Green Fairy Book'}\n",
      "{'title': 'The Three Dwarfs', 'book': 'The Red Fairy Book'}\n",
      "{'title': 'Jack My Hedgehog', 'book': 'The Green Fairy Book'}\n",
      "{'title': 'The Crystal Coffin', 'book': 'The Green Fairy Book'}\n",
      "{'title': 'Allerleirauh; Or, The Many-Furred Creature', 'book': 'The Green Fairy Book'}\n",
      "{'title': 'The Goose-Girl', 'book': 'The Blue Fairy Book'}\n",
      "{'title': 'The Three Musicians', 'book': 'The Green Fairy Book'}\n",
      "{'title': 'Snow-White And Rose-Red', 'book': 'The Blue Fairy Book'}\n",
      "{'title': 'Brother And Sister', 'book': 'The Red Fairy Book'}\n",
      "{'title': 'Little One-Eye, Little Two-Eyes, And Little Three-Eyes', 'book': 'The Green Fairy Book'}\n",
      "{'title': 'Hansel And Grettel', 'book': 'The Blue Fairy Book'}\n",
      "{'title': 'The Story Of The Fisherman And His Wife', 'book': 'The Green Fairy Book'}\n",
      "{'title': 'Trusty John', 'book': 'The Blue Fairy Book'}\n",
      "{'title': 'Snowdrop', 'book': 'The Red Fairy Book'}\n",
      "{'title': 'The Golden Mermaid', 'book': 'The Green Fairy Book'}\n",
      "{'title': 'The Tale Of A Youth Who Set Out To Learn What Fear Was', 'book': 'The Blue Fairy Book'}\n"
     ]
    }
   ],
   "source": [
    "for story in db[\"books\"].search(\"Grimm\", columns=[\"title\", \"book\"]):\n",
    "    print(story)"
   ]
  },
  {
   "cell_type": "markdown",
   "id": "a3bfa896",
   "metadata": {},
   "source": [
    "Okay, so let's check the end of one of those:"
   ]
  },
  {
   "cell_type": "code",
   "execution_count": 307,
   "id": "df95dc24",
   "metadata": {},
   "outputs": [
    {
     "name": "stdout",
     "output_type": "stream",
     "text": [
      "[6] Grimm.\n",
      "[19] Grimm.\n",
      "[22] Grimm.\n",
      "[23] Grimm.\n",
      "[26] Grimm.\n",
      "[29] Grimm.\n",
      "[30] Grimm.\n",
      "[32] Grimm.\n",
      "ut them up in the cellar, but in the morning they shall be led forth into the forest and shall serve a charcoal burner until they have improved, and will never again suffer poor animals to go hungry.'\n",
      " ill and died the two others were so deeply grieved that they were also taken ill and died too. And so, because they had all been so clever, and so fond of each other, they were all laid in one grave.\n",
      " and Mrs. Skovgaard-Pedersen has done 'The Green Knight' from the Danish. I must especially thank Monsieur Macler for permitting us to use some of his Contes Armeniens (Paris: Ernest Leroux, Editeur).\n",
      "[1] Grimm.\n",
      "[1] Grimm.\n",
      "[1] Grimm.\n",
      "[1] Grimm.\n",
      "[1] Grimm.\n",
      "[1] Grimm.\n",
      "^32:1 Grimm.\n",
      "ffer in colour; language, religion, and almost everything else; but they all love a nursery tale. The stories have mainly been adapted or translated by Mrs. Lang, a few by Miss Lang and Miss Blackley.\n",
      "ill not be dull. So good-bye, and when you have read a fairy book, lend it to other children who have none, or tell them the stories in your own way, which is a very pleasant mode of passing the time.\n",
      "Grimm.\n",
      "Grimm.\n",
      "Grimm.\n",
      "Grimm.\n",
      "Grimm.\n",
      "Grimm.\n",
      "Grimm.\n",
      "Grimm.\n",
      "Grimm.\n",
      "Grimm.\n",
      "Grimm.\n",
      "Grimm.\n",
      "Grimm.\n",
      "Grimm.\n",
      "Grimm.\n",
      "Grimm.\n",
      "Grimm.\n"
     ]
    }
   ],
   "source": [
    "for row in db.query('SELECT last_line FROM books WHERE text LIKE \"%Grimm%\"'):\n",
    "    print(row[\"last_line\"][-200:])"
   ]
  },
  {
   "cell_type": "markdown",
   "id": "62508627",
   "metadata": {},
   "source": [
    "How about some stories that don't reference Grimm?"
   ]
  },
  {
   "cell_type": "code",
   "execution_count": 308,
   "id": "2613b895",
   "metadata": {},
   "outputs": [
    {
     "name": "stdout",
     "output_type": "stream",
     "text": [
      "A. L. :: A. L.\n",
      " :: and dancing in summer by the light of the moon.\n",
      "La Princesse Printaniere. Par Mme. d'Aulnoy. :: [1] La Princesse Printaniere. Par Mme. d'Aulnoy.\n",
      "From P. C. Asbjornsen. :: [2] From P. C. Asbjornsen.\n",
      "Ralston. :: [3] Ralston.\n",
      "The Hibernian Tales. :: [4] The Hibernian Tales.\n",
      "From P. C. Asbjornsen. :: [5] From P. C. Asbjornsen.\n",
      "Madame d'Aulnoy. :: [7] Madame d'Aulnoy.\n",
      "Rumanische Marchen ubersetzt von Nite Kremnitz. :: [8] Rumanische Marchen ubersetzt von Nite Kremnitz.\n",
      " :: Then the King was wroth with those sons, and punished them as he thought best. And afterwards three weddings were celebrated.\n"
     ]
    }
   ],
   "source": [
    "# This query was used to help iterate the regular expressions used to extract the provenance\n",
    "for row in db.query('SELECT last_line, provenance FROM books WHERE text NOT LIKE \"%Grimm%\" LIMIT 10'):\n",
    "    print(row[\"provenance\"],\"::\", row[\"last_line\"][-200:])"
   ]
  },
  {
   "cell_type": "code",
   "execution_count": 309,
   "id": "cb8799fb",
   "metadata": {},
   "outputs": [
    {
     "name": "stdout",
     "output_type": "stream",
     "text": [
      "126 \n",
      "31 Grimm.\n",
      "5 Lapplandische Mahrchen.\n",
      "5 Japanische Marchen.\n",
      "5 From 'West Highland Tales.'\n",
      "5 Ehstnische Marchen.\n",
      "5 Charles Perrault.\n",
      "4 Volksmarchen der Serben.\n",
      "4 Madame d'Aulnoy.\n",
      "4 From Ungarische Mahrchen.\n"
     ]
    }
   ],
   "source": [
    "for row in db.query('SELECT DISTINCT provenance, COUNT(*) AS num FROM books GROUP BY provenance ORDER BY num DESC LIMIT 10'):\n",
    "    print(row[\"num\"], row[\"provenance\"])"
   ]
  },
  {
   "cell_type": "markdown",
   "id": "55fc102a",
   "metadata": {},
   "source": [
    "Hmm.. it seemed like there were more mentions of Grimm than that?"
   ]
  },
  {
   "cell_type": "markdown",
   "id": "d6f4245d",
   "metadata": {},
   "source": [
    "## Entity Extraction...\n",
    "\n",
    "So what entities can we find in the stories...?!\n",
    "\n",
    "Let's load in the `spacy` natural language processing toolkit:"
   ]
  },
  {
   "cell_type": "code",
   "execution_count": 310,
   "id": "32231076",
   "metadata": {},
   "outputs": [],
   "source": [
    "#%pip install --upgrade spacy\n",
    "import spacy\n",
    "nlp = spacy.load(\"en_core_web_sm\")"
   ]
  },
  {
   "cell_type": "markdown",
   "id": "71ee0c5a",
   "metadata": {},
   "source": [
    "And set up a database connection so we can easily run *pandas* mediated queries:"
   ]
  },
  {
   "cell_type": "code",
   "execution_count": 311,
   "id": "0dad6422",
   "metadata": {},
   "outputs": [],
   "source": [
    "import pandas as pd\n",
    "import sqlite3\n",
    "\n",
    "conn = sqlite3.connect(db_name)"
   ]
  },
  {
   "cell_type": "markdown",
   "id": "ab0aa1a3",
   "metadata": {},
   "source": [
    "Get a dataframe of data frm the database:"
   ]
  },
  {
   "cell_type": "code",
   "execution_count": 312,
   "id": "0370b9b5",
   "metadata": {},
   "outputs": [
    {
     "data": {
      "text/html": [
       "<div>\n",
       "<style scoped>\n",
       "    .dataframe tbody tr th:only-of-type {\n",
       "        vertical-align: middle;\n",
       "    }\n",
       "\n",
       "    .dataframe tbody tr th {\n",
       "        vertical-align: top;\n",
       "    }\n",
       "\n",
       "    .dataframe thead th {\n",
       "        text-align: right;\n",
       "    }\n",
       "</style>\n",
       "<table border=\"1\" class=\"dataframe\">\n",
       "  <thead>\n",
       "    <tr style=\"text-align: right;\">\n",
       "      <th></th>\n",
       "      <th>book</th>\n",
       "      <th>title</th>\n",
       "      <th>text</th>\n",
       "      <th>last_line</th>\n",
       "      <th>provenance</th>\n",
       "    </tr>\n",
       "  </thead>\n",
       "  <tbody>\n",
       "    <tr>\n",
       "      <th>0</th>\n",
       "      <td>The Red Fairy Book</td>\n",
       "      <td>Preface</td>\n",
       "      <td>IN a second gleaning of the fields of Fairy La...</td>\n",
       "      <td>A. L.</td>\n",
       "      <td>A. L.</td>\n",
       "    </tr>\n",
       "    <tr>\n",
       "      <th>1</th>\n",
       "      <td>The Red Fairy Book</td>\n",
       "      <td>The Twelve Dancing Princesses</td>\n",
       "      <td>I\\n\\nONCE upon a time there lived in the villa...</td>\n",
       "      <td>and dancing in summer by the light of the moon.</td>\n",
       "      <td></td>\n",
       "    </tr>\n",
       "    <tr>\n",
       "      <th>2</th>\n",
       "      <td>The Red Fairy Book</td>\n",
       "      <td>The Princess Mayblossom</td>\n",
       "      <td>ONCE upon a time there lived a King and Queen ...</td>\n",
       "      <td>[1] La Princesse Printaniere. Par Mme. d'Aulnoy.</td>\n",
       "      <td>La Princesse Printaniere. Par Mme. d'Aulnoy.</td>\n",
       "    </tr>\n",
       "    <tr>\n",
       "      <th>3</th>\n",
       "      <td>The Red Fairy Book</td>\n",
       "      <td>Soria Moria Castle</td>\n",
       "      <td>THERE was once upon a time a couple of folks w...</td>\n",
       "      <td>[2] From P. C. Asbjornsen.</td>\n",
       "      <td>From P. C. Asbjornsen.</td>\n",
       "    </tr>\n",
       "    <tr>\n",
       "      <th>4</th>\n",
       "      <td>The Red Fairy Book</td>\n",
       "      <td>The Death Of Koshchei The Deathless</td>\n",
       "      <td>IN a certain kingdom there lived a Prince Ivan...</td>\n",
       "      <td>[3] Ralston.</td>\n",
       "      <td>Ralston.</td>\n",
       "    </tr>\n",
       "  </tbody>\n",
       "</table>\n",
       "</div>"
      ],
      "text/plain": [
       "                 book                                title  \\\n",
       "0  The Red Fairy Book                              Preface   \n",
       "1  The Red Fairy Book        The Twelve Dancing Princesses   \n",
       "2  The Red Fairy Book              The Princess Mayblossom   \n",
       "3  The Red Fairy Book                   Soria Moria Castle   \n",
       "4  The Red Fairy Book  The Death Of Koshchei The Deathless   \n",
       "\n",
       "                                                text  \\\n",
       "0  IN a second gleaning of the fields of Fairy La...   \n",
       "1  I\\n\\nONCE upon a time there lived in the villa...   \n",
       "2  ONCE upon a time there lived a King and Queen ...   \n",
       "3  THERE was once upon a time a couple of folks w...   \n",
       "4  IN a certain kingdom there lived a Prince Ivan...   \n",
       "\n",
       "                                          last_line  \\\n",
       "0                                             A. L.   \n",
       "1   and dancing in summer by the light of the moon.   \n",
       "2  [1] La Princesse Printaniere. Par Mme. d'Aulnoy.   \n",
       "3                        [2] From P. C. Asbjornsen.   \n",
       "4                                      [3] Ralston.   \n",
       "\n",
       "                                     provenance  \n",
       "0                                         A. L.  \n",
       "1                                                \n",
       "2  La Princesse Printaniere. Par Mme. d'Aulnoy.  \n",
       "3                        From P. C. Asbjornsen.  \n",
       "4                                      Ralston.  "
      ]
     },
     "execution_count": 312,
     "metadata": {},
     "output_type": "execute_result"
    }
   ],
   "source": [
    "q = \"SELECT * FROM books\"\n",
    "df = pd.read_sql(q, conn)\n",
    "\n",
    "df.head()"
   ]
  },
  {
   "cell_type": "markdown",
   "id": "8b6a2223",
   "metadata": {},
   "source": [
    "Now let's have a go at extracting some entities:"
   ]
  },
  {
   "cell_type": "code",
   "execution_count": 347,
   "id": "ba7388d4",
   "metadata": {},
   "outputs": [
    {
     "data": {
      "text/html": [
       "<div>\n",
       "<style scoped>\n",
       "    .dataframe tbody tr th:only-of-type {\n",
       "        vertical-align: middle;\n",
       "    }\n",
       "\n",
       "    .dataframe tbody tr th {\n",
       "        vertical-align: top;\n",
       "    }\n",
       "\n",
       "    .dataframe thead th {\n",
       "        text-align: right;\n",
       "    }\n",
       "</style>\n",
       "<table border=\"1\" class=\"dataframe\">\n",
       "  <thead>\n",
       "    <tr style=\"text-align: right;\">\n",
       "      <th></th>\n",
       "      <th>book</th>\n",
       "      <th>title</th>\n",
       "      <th>text</th>\n",
       "      <th>last_line</th>\n",
       "      <th>provenance</th>\n",
       "      <th>entities</th>\n",
       "    </tr>\n",
       "  </thead>\n",
       "  <tbody>\n",
       "    <tr>\n",
       "      <th>0</th>\n",
       "      <td>The Red Fairy Book</td>\n",
       "      <td>Preface</td>\n",
       "      <td>IN a second gleaning of the fields of Fairy La...</td>\n",
       "      <td>A. L.</td>\n",
       "      <td>A. L.</td>\n",
       "      <td>{PERSON :: Miss Farquharson, ORG :: La Traditi...</td>\n",
       "    </tr>\n",
       "    <tr>\n",
       "      <th>1</th>\n",
       "      <td>The Red Fairy Book</td>\n",
       "      <td>The Twelve Dancing Princesses</td>\n",
       "      <td>I\\n\\nONCE upon a time there lived in the villa...</td>\n",
       "      <td>and dancing in summer by the light of the moon.</td>\n",
       "      <td></td>\n",
       "      <td>{ORDINAL :: fourth, ORG :: Beloeil, TIME :: al...</td>\n",
       "    </tr>\n",
       "    <tr>\n",
       "      <th>2</th>\n",
       "      <td>The Red Fairy Book</td>\n",
       "      <td>The Princess Mayblossom</td>\n",
       "      <td>ONCE upon a time there lived a King and Queen ...</td>\n",
       "      <td>[1] La Princesse Printaniere. Par Mme. d'Aulnoy.</td>\n",
       "      <td>La Princesse Printaniere. Par Mme. d'Aulnoy.</td>\n",
       "      <td>{QUANTITY :: only twenty feet, ORDINAL :: four...</td>\n",
       "    </tr>\n",
       "    <tr>\n",
       "      <th>3</th>\n",
       "      <td>The Red Fairy Book</td>\n",
       "      <td>Soria Moria Castle</td>\n",
       "      <td>THERE was once upon a time a couple of folks w...</td>\n",
       "      <td>[2] From P. C. Asbjornsen.</td>\n",
       "      <td>From P. C. Asbjornsen.</td>\n",
       "      <td>{QUANTITY :: six miles, CARDINAL :: one, TIME ...</td>\n",
       "    </tr>\n",
       "    <tr>\n",
       "      <th>4</th>\n",
       "      <td>The Red Fairy Book</td>\n",
       "      <td>The Death Of Koshchei The Deathless</td>\n",
       "      <td>IN a certain kingdom there lived a Prince Ivan...</td>\n",
       "      <td>[3] Ralston.</td>\n",
       "      <td>Ralston.</td>\n",
       "      <td>{PERSON :: Prince Ivan, ORG :: the Water of Li...</td>\n",
       "    </tr>\n",
       "    <tr>\n",
       "      <th>5</th>\n",
       "      <td>The Red Fairy Book</td>\n",
       "      <td>The Black Thief And Knight Of The Glen.</td>\n",
       "      <td>IN times of yore there was a King and a Queen ...</td>\n",
       "      <td>[4] The Hibernian Tales.</td>\n",
       "      <td>The Hibernian Tales.</td>\n",
       "      <td>{PERSON :: Knight, WORK_OF_ART :: The Knight o...</td>\n",
       "    </tr>\n",
       "    <tr>\n",
       "      <th>6</th>\n",
       "      <td>The Red Fairy Book</td>\n",
       "      <td>The Master Thief</td>\n",
       "      <td>THERE was once upon a time a husbandman who ha...</td>\n",
       "      <td>[5] From P. C. Asbjornsen.</td>\n",
       "      <td>From P. C. Asbjornsen.</td>\n",
       "      <td>{CARDINAL :: one, TIME :: evening, ORG :: Prie...</td>\n",
       "    </tr>\n",
       "    <tr>\n",
       "      <th>7</th>\n",
       "      <td>The Red Fairy Book</td>\n",
       "      <td>Brother And Sister</td>\n",
       "      <td>BROTHER took sister by the hand and said: `Loo...</td>\n",
       "      <td>[6] Grimm.</td>\n",
       "      <td>Grimm.</td>\n",
       "      <td>{TIME :: one night, TIME :: Next morning, TIME...</td>\n",
       "    </tr>\n",
       "    <tr>\n",
       "      <th>8</th>\n",
       "      <td>The Red Fairy Book</td>\n",
       "      <td>Princess Rosette</td>\n",
       "      <td>ONCE upon a time there lived a King and Queen ...</td>\n",
       "      <td>[7] Madame d'Aulnoy.</td>\n",
       "      <td>Madame d'Aulnoy.</td>\n",
       "      <td>{PERSON :: Frisk, CARDINAL :: one, TIME :: eve...</td>\n",
       "    </tr>\n",
       "    <tr>\n",
       "      <th>9</th>\n",
       "      <td>The Red Fairy Book</td>\n",
       "      <td>The Enchanted Pig</td>\n",
       "      <td>ONCE upon a time there lived a King who had th...</td>\n",
       "      <td>[8] Rumanische Marchen ubersetzt von Nite Krem...</td>\n",
       "      <td>Rumanische Marchen ubersetzt von Nite Kremnitz.</td>\n",
       "      <td>{ORG :: Sun, LOC :: North, CARDINAL :: one, DA...</td>\n",
       "    </tr>\n",
       "  </tbody>\n",
       "</table>\n",
       "</div>"
      ],
      "text/plain": [
       "                 book                                    title  \\\n",
       "0  The Red Fairy Book                                  Preface   \n",
       "1  The Red Fairy Book            The Twelve Dancing Princesses   \n",
       "2  The Red Fairy Book                  The Princess Mayblossom   \n",
       "3  The Red Fairy Book                       Soria Moria Castle   \n",
       "4  The Red Fairy Book      The Death Of Koshchei The Deathless   \n",
       "5  The Red Fairy Book  The Black Thief And Knight Of The Glen.   \n",
       "6  The Red Fairy Book                         The Master Thief   \n",
       "7  The Red Fairy Book                       Brother And Sister   \n",
       "8  The Red Fairy Book                         Princess Rosette   \n",
       "9  The Red Fairy Book                        The Enchanted Pig   \n",
       "\n",
       "                                                text  \\\n",
       "0  IN a second gleaning of the fields of Fairy La...   \n",
       "1  I\\n\\nONCE upon a time there lived in the villa...   \n",
       "2  ONCE upon a time there lived a King and Queen ...   \n",
       "3  THERE was once upon a time a couple of folks w...   \n",
       "4  IN a certain kingdom there lived a Prince Ivan...   \n",
       "5  IN times of yore there was a King and a Queen ...   \n",
       "6  THERE was once upon a time a husbandman who ha...   \n",
       "7  BROTHER took sister by the hand and said: `Loo...   \n",
       "8  ONCE upon a time there lived a King and Queen ...   \n",
       "9  ONCE upon a time there lived a King who had th...   \n",
       "\n",
       "                                           last_line  \\\n",
       "0                                              A. L.   \n",
       "1    and dancing in summer by the light of the moon.   \n",
       "2   [1] La Princesse Printaniere. Par Mme. d'Aulnoy.   \n",
       "3                         [2] From P. C. Asbjornsen.   \n",
       "4                                       [3] Ralston.   \n",
       "5                           [4] The Hibernian Tales.   \n",
       "6                         [5] From P. C. Asbjornsen.   \n",
       "7                                         [6] Grimm.   \n",
       "8                               [7] Madame d'Aulnoy.   \n",
       "9  [8] Rumanische Marchen ubersetzt von Nite Krem...   \n",
       "\n",
       "                                        provenance  \\\n",
       "0                                            A. L.   \n",
       "1                                                    \n",
       "2     La Princesse Printaniere. Par Mme. d'Aulnoy.   \n",
       "3                           From P. C. Asbjornsen.   \n",
       "4                                         Ralston.   \n",
       "5                             The Hibernian Tales.   \n",
       "6                           From P. C. Asbjornsen.   \n",
       "7                                           Grimm.   \n",
       "8                                 Madame d'Aulnoy.   \n",
       "9  Rumanische Marchen ubersetzt von Nite Kremnitz.   \n",
       "\n",
       "                                            entities  \n",
       "0  {PERSON :: Miss Farquharson, ORG :: La Traditi...  \n",
       "1  {ORDINAL :: fourth, ORG :: Beloeil, TIME :: al...  \n",
       "2  {QUANTITY :: only twenty feet, ORDINAL :: four...  \n",
       "3  {QUANTITY :: six miles, CARDINAL :: one, TIME ...  \n",
       "4  {PERSON :: Prince Ivan, ORG :: the Water of Li...  \n",
       "5  {PERSON :: Knight, WORK_OF_ART :: The Knight o...  \n",
       "6  {CARDINAL :: one, TIME :: evening, ORG :: Prie...  \n",
       "7  {TIME :: one night, TIME :: Next morning, TIME...  \n",
       "8  {PERSON :: Frisk, CARDINAL :: one, TIME :: eve...  \n",
       "9  {ORG :: Sun, LOC :: North, CARDINAL :: one, DA...  "
      ]
     },
     "execution_count": 347,
     "metadata": {},
     "output_type": "execute_result"
    }
   ],
   "source": [
    "# Extract a set of entities, rather than a list...\n",
    "get_entities = lambda desc: {f\"{entity.label_} :: {entity.text}\" for entity in nlp(desc).ents}\n",
    "\n",
    "# The full run takes some time....\n",
    "df['entities'] = df[\"text\"].apply(get_entities)\n",
    "\n",
    "df.head(10)"
   ]
  },
  {
   "cell_type": "markdown",
   "id": "b0f50544",
   "metadata": {},
   "source": [
    "*We should probably just do this once and add an appropriate table of entities to the database...*\n",
    "\n",
    "We can explode these out into a long format dataframe:"
   ]
  },
  {
   "cell_type": "code",
   "execution_count": 349,
   "id": "3865c4d5",
   "metadata": {},
   "outputs": [
    {
     "data": {
      "text/html": [
       "<div>\n",
       "<style scoped>\n",
       "    .dataframe tbody tr th:only-of-type {\n",
       "        vertical-align: middle;\n",
       "    }\n",
       "\n",
       "    .dataframe tbody tr th {\n",
       "        vertical-align: top;\n",
       "    }\n",
       "\n",
       "    .dataframe thead th {\n",
       "        text-align: right;\n",
       "    }\n",
       "</style>\n",
       "<table border=\"1\" class=\"dataframe\">\n",
       "  <thead>\n",
       "    <tr style=\"text-align: right;\">\n",
       "      <th></th>\n",
       "      <th>book</th>\n",
       "      <th>title</th>\n",
       "      <th>text</th>\n",
       "      <th>last_line</th>\n",
       "      <th>provenance</th>\n",
       "      <th>entity</th>\n",
       "      <th>entity_typ</th>\n",
       "      <th>entity_value</th>\n",
       "    </tr>\n",
       "  </thead>\n",
       "  <tbody>\n",
       "    <tr>\n",
       "      <th>0</th>\n",
       "      <td>The Red Fairy Book</td>\n",
       "      <td>Preface</td>\n",
       "      <td>IN a second gleaning of the fields of Fairy La...</td>\n",
       "      <td>A. L.</td>\n",
       "      <td>A. L.</td>\n",
       "      <td>PERSON :: Miss Farquharson</td>\n",
       "      <td>PERSON</td>\n",
       "      <td>Miss Farquharson</td>\n",
       "    </tr>\n",
       "    <tr>\n",
       "      <th>0</th>\n",
       "      <td>The Red Fairy Book</td>\n",
       "      <td>Preface</td>\n",
       "      <td>IN a second gleaning of the fields of Fairy La...</td>\n",
       "      <td>A. L.</td>\n",
       "      <td>A. L.</td>\n",
       "      <td>ORG :: La Tradition</td>\n",
       "      <td>ORG</td>\n",
       "      <td>La Tradition</td>\n",
       "    </tr>\n",
       "    <tr>\n",
       "      <th>0</th>\n",
       "      <td>The Red Fairy Book</td>\n",
       "      <td>Preface</td>\n",
       "      <td>IN a second gleaning of the fields of Fairy La...</td>\n",
       "      <td>A. L.</td>\n",
       "      <td>A. L.</td>\n",
       "      <td>PERSON :: M. Henri Carnoy</td>\n",
       "      <td>PERSON</td>\n",
       "      <td>M. Henri Carnoy</td>\n",
       "    </tr>\n",
       "    <tr>\n",
       "      <th>0</th>\n",
       "      <td>The Red Fairy Book</td>\n",
       "      <td>Preface</td>\n",
       "      <td>IN a second gleaning of the fields of Fairy La...</td>\n",
       "      <td>A. L.</td>\n",
       "      <td>A. L.</td>\n",
       "      <td>GPE :: Madame d'Aulnoy</td>\n",
       "      <td>GPE</td>\n",
       "      <td>Madame d'Aulnoy</td>\n",
       "    </tr>\n",
       "    <tr>\n",
       "      <th>0</th>\n",
       "      <td>The Red Fairy Book</td>\n",
       "      <td>Preface</td>\n",
       "      <td>IN a second gleaning of the fields of Fairy La...</td>\n",
       "      <td>A. L.</td>\n",
       "      <td>A. L.</td>\n",
       "      <td>NORP :: German</td>\n",
       "      <td>NORP</td>\n",
       "      <td>German</td>\n",
       "    </tr>\n",
       "  </tbody>\n",
       "</table>\n",
       "</div>"
      ],
      "text/plain": [
       "                 book    title  \\\n",
       "0  The Red Fairy Book  Preface   \n",
       "0  The Red Fairy Book  Preface   \n",
       "0  The Red Fairy Book  Preface   \n",
       "0  The Red Fairy Book  Preface   \n",
       "0  The Red Fairy Book  Preface   \n",
       "\n",
       "                                                text last_line provenance  \\\n",
       "0  IN a second gleaning of the fields of Fairy La...     A. L.      A. L.   \n",
       "0  IN a second gleaning of the fields of Fairy La...     A. L.      A. L.   \n",
       "0  IN a second gleaning of the fields of Fairy La...     A. L.      A. L.   \n",
       "0  IN a second gleaning of the fields of Fairy La...     A. L.      A. L.   \n",
       "0  IN a second gleaning of the fields of Fairy La...     A. L.      A. L.   \n",
       "\n",
       "                       entity entity_typ      entity_value  \n",
       "0  PERSON :: Miss Farquharson     PERSON  Miss Farquharson  \n",
       "0         ORG :: La Tradition        ORG      La Tradition  \n",
       "0   PERSON :: M. Henri Carnoy     PERSON   M. Henri Carnoy  \n",
       "0      GPE :: Madame d'Aulnoy        GPE   Madame d'Aulnoy  \n",
       "0              NORP :: German       NORP            German  "
      ]
     },
     "execution_count": 349,
     "metadata": {},
     "output_type": "execute_result"
    }
   ],
   "source": [
    "from pandas import Series\n",
    "\n",
    "# Explode the entities one per row...\n",
    "df_long = df.explode('entities')\n",
    "df_long.rename(columns={\"entities\":\"entity\"}, inplace=True)\n",
    "\n",
    "# And then separate out entity type and value\n",
    "df_long[[\"entity_typ\", \"entity_value\"]] = df_long[\"entity\"].str.split(\" :: \").apply(Series)\n",
    "df_long.head()"
   ]
  },
  {
   "cell_type": "markdown",
   "id": "5db0f38c",
   "metadata": {},
   "source": [
    "And explore..."
   ]
  },
  {
   "cell_type": "code",
   "execution_count": 350,
   "id": "b1e49430",
   "metadata": {},
   "outputs": [
    {
     "data": {
      "text/plain": [
       "DATE           2865\n",
       "CARDINAL       2330\n",
       "TIME           1783\n",
       "PERSON         1467\n",
       "ORG             996\n",
       "ORDINAL         881\n",
       "GPE             550\n",
       "NORP            300\n",
       "WORK_OF_ART     244\n",
       "QUANTITY        204\n",
       "LOC             160\n",
       "FAC              88\n",
       "PRODUCT          57\n",
       "MONEY            45\n",
       "EVENT            20\n",
       "LANGUAGE         17\n",
       "LAW              13\n",
       "PERCENT           1\n",
       "Name: entity_typ, dtype: int64"
      ]
     },
     "execution_count": 350,
     "metadata": {},
     "output_type": "execute_result"
    }
   ],
   "source": [
    "df_long[\"entity_typ\"].value_counts()"
   ]
  },
  {
   "cell_type": "markdown",
   "id": "22888116",
   "metadata": {},
   "source": [
    "What sort of money has been identified in the stories?"
   ]
  },
  {
   "cell_type": "code",
   "execution_count": 355,
   "id": "fe1b4973",
   "metadata": {},
   "outputs": [
    {
     "data": {
      "text/plain": [
       "a penny                  10\n",
       "a hundred dollars         5\n",
       "three hundred dollars     4\n",
       "two hundred dollars       3\n",
       "ten dollars               2\n",
       "the hundred dollars       2\n",
       "two thousand dollars      1\n",
       "a thousand pounds         1\n",
       "twelve hundred pounds     1\n",
       "fifty pounds              1\n",
       "Name: entity_value, dtype: int64"
      ]
     },
     "execution_count": 355,
     "metadata": {},
     "output_type": "execute_result"
    }
   ],
   "source": [
    "df_long[df_long[\"entity_typ\"]==\"MONEY\"][\"entity_value\"].value_counts().head(10)"
   ]
  },
  {
   "cell_type": "markdown",
   "id": "aaf16f80",
   "metadata": {},
   "source": [
    "Dollars? Really??? What about gold coins?! Do I need to train a new classifier?! Or was the original text really like that... Or has the text been got at? *(Maybe I should do my own digitisation project to extract the text from copies of the original books on the Internet Archive? Hmmm.. that could be interesting for when we go on strike...)*\n",
    "\n",
    "What about other quantities?"
   ]
  },
  {
   "cell_type": "code",
   "execution_count": 356,
   "id": "845e1026",
   "metadata": {},
   "outputs": [
    {
     "data": {
      "text/plain": [
       "a mile             9\n",
       "a few miles        7\n",
       "several miles      7\n",
       "twenty miles       6\n",
       "three miles        4\n",
       "a hundred miles    4\n",
       "one foot           4\n",
       "a few feet         3\n",
       "half a mile        3\n",
       "two miles          3\n",
       "Name: entity_value, dtype: int64"
      ]
     },
     "execution_count": 356,
     "metadata": {},
     "output_type": "execute_result"
    }
   ],
   "source": [
    "df_long[df_long[\"entity_typ\"]==\"QUANTITY\"][\"entity_value\"].value_counts().head(10)"
   ]
  },
  {
   "cell_type": "markdown",
   "id": "71a8daa1",
   "metadata": {},
   "source": [
    "What people have been identified?"
   ]
  },
  {
   "cell_type": "code",
   "execution_count": 358,
   "id": "76d780e5",
   "metadata": {},
   "outputs": [
    {
     "data": {
      "text/plain": [
       "Queen       40\n",
       "Fairy       28\n",
       "Majesty     22\n",
       "King        15\n",
       "Lang        12\n",
       "Thou        11\n",
       "Peter        9\n",
       "Jack         9\n",
       "Campbell     8\n",
       "Hush         8\n",
       "Name: entity_value, dtype: int64"
      ]
     },
     "execution_count": 358,
     "metadata": {},
     "output_type": "execute_result"
    }
   ],
   "source": [
    "df_long[df_long[\"entity_typ\"]==\"PERSON\"][\"entity_value\"].value_counts().head(10)"
   ]
  },
  {
   "cell_type": "markdown",
   "id": "046a3285",
   "metadata": {},
   "source": [
    "How about geo-political entities (GPEs)?"
   ]
  },
  {
   "cell_type": "code",
   "execution_count": 359,
   "id": "c80a44e2",
   "metadata": {},
   "outputs": [
    {
     "data": {
      "text/plain": [
       "Prince     52\n",
       "Paris      10\n",
       "France      9\n",
       "Truly       9\n",
       "Japan       8\n",
       "Denmark     6\n",
       "Kletke      6\n",
       "Greece      6\n",
       "Ireland     6\n",
       "Finland     5\n",
       "Name: entity_value, dtype: int64"
      ]
     },
     "execution_count": 359,
     "metadata": {},
     "output_type": "execute_result"
    }
   ],
   "source": [
    "df_long[df_long[\"entity_typ\"]==\"GPE\"][\"entity_value\"].value_counts().head(10)"
   ]
  },
  {
   "cell_type": "markdown",
   "id": "26c6bea2",
   "metadata": {},
   "source": [
    "When did things happen?"
   ]
  },
  {
   "cell_type": "code",
   "execution_count": 360,
   "id": "d9af47f7",
   "metadata": {},
   "outputs": [
    {
     "data": {
      "text/plain": [
       "one day         168\n",
       "One day         130\n",
       "three days       78\n",
       "the day          67\n",
       "the next day     58\n",
       "next day         55\n",
       "a few days       50\n",
       "The next day     43\n",
       "Next day         41\n",
       "all day          35\n",
       "Name: entity_value, dtype: int64"
      ]
     },
     "execution_count": 360,
     "metadata": {},
     "output_type": "execute_result"
    }
   ],
   "source": [
    "df_long[df_long[\"entity_typ\"]==\"DATE\"][\"entity_value\"].value_counts().head(10)"
   ]
  },
  {
   "cell_type": "markdown",
   "id": "ea08b95e",
   "metadata": {},
   "source": [
    "And how about time considerations?"
   ]
  },
  {
   "cell_type": "code",
   "execution_count": 361,
   "id": "b8491284",
   "metadata": {},
   "outputs": [
    {
     "data": {
      "text/plain": [
       "the night        91\n",
       "evening          84\n",
       "a few minutes    79\n",
       "night            77\n",
       "one morning      58\n",
       "next morning     49\n",
       "all night        41\n",
       "one night        38\n",
       "morning          37\n",
       "midnight         36\n",
       "Name: entity_value, dtype: int64"
      ]
     },
     "execution_count": 361,
     "metadata": {},
     "output_type": "execute_result"
    }
   ],
   "source": [
    "df_long[df_long[\"entity_typ\"]==\"TIME\"][\"entity_value\"].value_counts().head(10)"
   ]
  },
  {
   "cell_type": "markdown",
   "id": "73aa37fe",
   "metadata": {},
   "source": [
    "How were things organised?"
   ]
  },
  {
   "cell_type": "code",
   "execution_count": 362,
   "id": "18ad8e91",
   "metadata": {},
   "outputs": [
    {
     "data": {
      "text/plain": [
       "Court       41\n",
       "Prince      22\n",
       "Grimm       20\n",
       "Princess    16\n",
       "Palace      10\n",
       "Fairies      8\n",
       "State        8\n",
       "Time         8\n",
       "Troll        7\n",
       "Giant        7\n",
       "Name: entity_value, dtype: int64"
      ]
     },
     "execution_count": 362,
     "metadata": {},
     "output_type": "execute_result"
    }
   ],
   "source": [
    "df_long[df_long[\"entity_typ\"]==\"ORG\"][\"entity_value\"].value_counts().head(10)"
   ]
  },
  {
   "cell_type": "markdown",
   "id": "836f52ad",
   "metadata": {},
   "source": [
    "What's a `NORP`? (Ah... *Nationalities Or Religious or Political groups.)*"
   ]
  },
  {
   "cell_type": "code",
   "execution_count": 364,
   "id": "370cc6de",
   "metadata": {},
   "outputs": [
    {
     "data": {
      "text/plain": [
       "German        24\n",
       "Danish        18\n",
       "French        13\n",
       "Russian       11\n",
       "Indian        10\n",
       "Christian      9\n",
       "Italian        8\n",
       "Portuguese     7\n",
       "Spanish        7\n",
       "Persian        6\n",
       "Name: entity_value, dtype: int64"
      ]
     },
     "execution_count": 364,
     "metadata": {},
     "output_type": "execute_result"
    }
   ],
   "source": [
    "df_long[df_long[\"entity_typ\"]==\"NORP\"][\"entity_value\"].value_counts().head(10)"
   ]
  },
  {
   "cell_type": "markdown",
   "id": "a955dc0f",
   "metadata": {},
   "source": [
    "## Other Things to Link In\n",
    "\n",
    "Have other people generated data sets that can be linked in?\n",
    "\n",
    "- http://www.mythfolklore.net/andrewlang/indexbib.htm /via @OnlineCrsLady"
   ]
  }
 ],
 "metadata": {
  "kernelspec": {
   "display_name": "Python 3",
   "language": "python",
   "name": "python3"
  },
  "language_info": {
   "codemirror_mode": {
    "name": "ipython",
    "version": 3
   },
   "file_extension": ".py",
   "mimetype": "text/x-python",
   "name": "python",
   "nbconvert_exporter": "python",
   "pygments_lexer": "ipython3",
   "version": "3.9.8"
  }
 },
 "nbformat": 4,
 "nbformat_minor": 5
}
